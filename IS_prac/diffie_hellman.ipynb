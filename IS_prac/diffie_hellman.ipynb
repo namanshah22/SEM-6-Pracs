{
 "cells": [
  {
   "cell_type": "code",
   "execution_count": 1,
   "metadata": {},
   "outputs": [
    {
     "name": "stdout",
     "output_type": "stream",
     "text": [
      "Alice's public key: 4\n",
      "Bob's public key: 10\n",
      "Alice's shared secret: 18\n",
      "Bob's shared secret: 18\n"
     ]
    }
   ],
   "source": [
    "import random\n",
    "\n",
    "def mod_exp(base, exp, mod):\n",
    "    result = 1\n",
    "    base = base % mod\n",
    "    while exp > 0:\n",
    "        if exp % 2 == 1:\n",
    "            result = (result * base) % mod\n",
    "        exp = exp // 2\n",
    "        base = (base * base) % mod\n",
    "    return result\n",
    "\n",
    "def calculate_shared_secret(public_key, private_key, p):\n",
    "    shared_secret = mod_exp(public_key, private_key, p)\n",
    "    return shared_secret\n",
    "# Example usage:\n",
    "p = 23  # Prime number\n",
    "g = 5   # Generator\n",
    "# Hardcoded private keys for both Alice and Bob\n",
    "alice_private_key = 4\n",
    "bob_private_key = 3\n",
    "# Calculate public keys\n",
    "alice_public_key = mod_exp(g, alice_private_key, p)\n",
    "bob_public_key = mod_exp(g, bob_private_key, p)\n",
    "# Shared secret calculation\n",
    "alice_shared_secret = calculate_shared_secret(bob_public_key, alice_private_key, p)\n",
    "bob_shared_secret = calculate_shared_secret(alice_public_key, bob_private_key, p)\n",
    "\n",
    "# Output\n",
    "print(\"Alice's public key:\", alice_public_key)\n",
    "print(\"Bob's public key:\", bob_public_key)\n",
    "print(f\"Alice's shared secret: {alice_shared_secret}\")\n",
    "print(f\"Bob's shared secret: {bob_shared_secret}\")"
   ]
  }
 ],
 "metadata": {
  "kernelspec": {
   "display_name": "Python 3 (ipykernel)",
   "language": "python",
   "name": "python3"
  },
  "language_info": {
   "codemirror_mode": {
    "name": "ipython",
    "version": 3
   },
   "file_extension": ".py",
   "mimetype": "text/x-python",
   "name": "python",
   "nbconvert_exporter": "python",
   "pygments_lexer": "ipython3",
   "version": "3.9.7"
  }
 },
 "nbformat": 4,
 "nbformat_minor": 2
}
