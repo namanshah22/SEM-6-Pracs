{
 "cells": [
  {
   "cell_type": "code",
   "execution_count": 1,
   "metadata": {},
   "outputs": [
    {
     "name": "stdout",
     "output_type": "stream",
     "text": [
      "Enter two prime numbers: 3 11\n",
      "Enter the plain text: 12\n",
      "Public key(e,n):  3 33\n",
      "Private key(d,n):  7 33\n",
      "Cipher text:  12\n",
      "Plain text:  12\n"
     ]
    }
   ],
   "source": [
    "import math\n",
    "def enc(plain,e,n):\n",
    "    return (plain**e)%n\n",
    "def dec(cipher,d,n):\n",
    "    return (cipher**d)%n\n",
    "def get_public_key(phi):\n",
    "    e = 2\n",
    "    while e < phi:\n",
    "        if math.gcd(e,phi) == 1:\n",
    "            break\n",
    "        else:\n",
    "            e += 1\n",
    "    return e\n",
    "def get_private_key(e,phi):\n",
    "    d = 2\n",
    "    while d < phi:\n",
    "        if (d*e)%phi == 1:\n",
    "            break\n",
    "        else:\n",
    "            d += 1\n",
    "    return d\n",
    "if __name__=='__main__':\n",
    "    p,q = input('Enter two prime numbers: ').split()\n",
    "    plain = int(input('Enter the plain text: '))\n",
    "    p,q = int(p),int(q)\n",
    "    n = p*q\n",
    "    phi = (p-1)*(q-1)\n",
    "    e = get_public_key(phi)\n",
    "    d = get_private_key(e,phi)\n",
    "    print('Public key(e,n): ',e,n)\n",
    "    print('Private key(d,n): ',d,n)\n",
    "    cipher = enc(plain,e,n)\n",
    "    print('Cipher text: ',cipher)\n",
    "    print('Plain text: ',dec(cipher,d,n))"
   ]
  }
 ],
 "metadata": {
  "kernelspec": {
   "display_name": "Python 3 (ipykernel)",
   "language": "python",
   "name": "python3"
  },
  "language_info": {
   "codemirror_mode": {
    "name": "ipython",
    "version": 3
   },
   "file_extension": ".py",
   "mimetype": "text/x-python",
   "name": "python",
   "nbconvert_exporter": "python",
   "pygments_lexer": "ipython3",
   "version": "3.9.7"
  }
 },
 "nbformat": 4,
 "nbformat_minor": 2
}
