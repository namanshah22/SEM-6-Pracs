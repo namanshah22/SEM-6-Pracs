{
 "cells": [
  {
   "cell_type": "code",
   "execution_count": 1,
   "metadata": {},
   "outputs": [
    {
     "name": "stdout",
     "output_type": "stream",
     "text": [
      "Convex Hull using Graham's Scan Algorithm: [(0, 0), (3, 1), (4, 4), (0, 3)]\n"
     ]
    }
   ],
   "source": [
    "import math\n",
    "\n",
    "# Function to compute orientation of three points (p, q, r)\n",
    "def orientation(p, q, r):\n",
    "    val = (q[1] - p[1]) * (r[0] - q[0]) - (q[0] - p[0]) * (r[1] - q[1])\n",
    "    if val == 0:\n",
    "        return 0 # collinear\n",
    "    return 1 if val > 0 else 2 # clockwise or counterclockwise\n",
    "\n",
    "# Function to perform Graham's scan algorithm\n",
    "def graham_scan(points):\n",
    "    # Number of points\n",
    "    n = len(points)\n",
    "    if n < 3:\n",
    "        return None # Convex hull not possible with less than 3 points\n",
    "    \n",
    "    # Find the point with the lowest y-coordinate (and the leftmost if tie)\n",
    "    min_point = min(points, key=lambda point: (point[1], point[0]))\n",
    "    \n",
    "    # Sort the points based on polar angle from the minimum point\n",
    "    sorted_points = sorted(points, key=lambda point: (math.atan2(point[1] - min_point[1], point[0] - min_point[0]), point[0], point[1]))\n",
    "    \n",
    "    # Initialize stack for convex hull\n",
    "    stack = [sorted_points[0], sorted_points[1]]\n",
    "    \n",
    "    for i in range(2, n):\n",
    "        # Pop the top of the stack while the angle formed by the next point, \n",
    "        # the top of the stack, and the point beneath the top is not counterclockwise\n",
    "        while len(stack) > 1 and orientation(stack[-2], stack[-1], sorted_points[i]) != 2:\n",
    "            stack.pop()\n",
    "        stack.append(sorted_points[i])\n",
    "    \n",
    "    return stack\n",
    "\n",
    "# Example usage\n",
    "points = [(0, 3), (1, 1), (2, 2), (4, 4), (0, 0), (1, 2), (3, 1), (3, 3)]\n",
    "convex_hull = graham_scan(points)\n",
    "print(\"Convex Hull using Graham's Scan Algorithm:\", convex_hull)\n"
   ]
  }
 ],
 "metadata": {
  "kernelspec": {
   "display_name": "Python 3 (ipykernel)",
   "language": "python",
   "name": "python3"
  },
  "language_info": {
   "codemirror_mode": {
    "name": "ipython",
    "version": 3
   },
   "file_extension": ".py",
   "mimetype": "text/x-python",
   "name": "python",
   "nbconvert_exporter": "python",
   "pygments_lexer": "ipython3",
   "version": "3.9.7"
  }
 },
 "nbformat": 4,
 "nbformat_minor": 2
}
